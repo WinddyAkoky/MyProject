{
 "cells": [
  {
   "cell_type": "markdown",
   "metadata": {},
   "source": [
    "# winddy\n",
    "\n",
    "**这里主要分析正常模型与经过对抗训练的模型的输出的信息熵的差别。***\n"
   ]
  },
  {
   "cell_type": "code",
   "execution_count": 30,
   "metadata": {
    "collapsed": true
   },
   "outputs": [],
   "source": [
    "import torch \n",
    "import numpy as np\n",
    "import os\n",
    "import torchvision.transforms as transforms\n",
    "import torchvision\n",
    "import matplotlib.pyplot as plt\n",
    "import torch.nn as nn\n",
    "from LeNet import LeNet\n",
    "from torch.autograd import Variable"
   ]
  },
  {
   "cell_type": "code",
   "execution_count": 31,
   "metadata": {
    "collapsed": true
   },
   "outputs": [],
   "source": [
    "NORMALIZE = True\n",
    "DEVICE = torch.device('cuda:7' if torch.cuda.is_available() else 'cpu')"
   ]
  },
  {
   "cell_type": "code",
   "execution_count": 32,
   "metadata": {
    "collapsed": true
   },
   "outputs": [],
   "source": [
    "if NORMALIZE:\n",
    "    trans = transforms.Compose([\n",
    "        transforms.ToTensor(),\n",
    "        transforms.Normalize((0.1307,), (0.3081,))\n",
    "    ])\n",
    "else:\n",
    "    trans = transforms.Compose([\n",
    "        transforms.ToTensor(),\n",
    "    ])"
   ]
  },
  {
   "cell_type": "code",
   "execution_count": 33,
   "metadata": {
    "collapsed": true
   },
   "outputs": [],
   "source": [
    "data_home = '/data/winddy/'\n",
    "\n",
    "train_set = torchvision.datasets.MNIST(root=os.path.join(data_home, 'dataset/MNIST'), train=True, download=True, transform=trans)\n",
    "test_set = torchvision.datasets.MNIST(root=os.path.join(data_home, 'dataset/MNIST'), train=False, download=True, transform=trans)"
   ]
  },
  {
   "cell_type": "code",
   "execution_count": 34,
   "metadata": {
    "collapsed": true
   },
   "outputs": [],
   "source": [
    "train_loader = torch.utils.data.DataLoader(train_set, batch_size=64, shuffle=True, num_workers=2)\n",
    "test_loader = torch.utils.data.DataLoader(test_set, batch_size=64, shuffle=True, num_workers=2)"
   ]
  },
  {
   "cell_type": "code",
   "execution_count": 35,
   "metadata": {
    "collapsed": true
   },
   "outputs": [],
   "source": [
    "# 可视化数据集\n",
    "def imshow(img):\n",
    "    if NORMALIZE:\n",
    "        img = img * 0.3081 + 0.1307\n",
    "    np_img = img.numpy()\n",
    "    plt.imshow(np.transpose(np_img, (1, 2, 0)))\n",
    "    plt.show()\n",
    "    \n",
    "class FGSM:\n",
    "    def __init__(self, model, criterion, epsilon, device):\n",
    "        self.model = model\n",
    "        self.criterion = criterion\n",
    "        self.epsilon = epsilon\n",
    "        self.device = device\n",
    "        assert isinstance(model, torch.nn.Module), \"Input parameter model is not nn.Module. Check the model\"\n",
    "        assert isinstance(criterion, torch.nn.Module), \"Input parameter criterion is no Loss. Check the criterion\"\n",
    "        assert (0 <= epsilon <= 1), \"episilon must be 0 <= epsilon <= 1\"\n",
    "        self.model.eval()\n",
    "\n",
    "\n",
    "    def __call__(self, input, labels):\n",
    "        # For calculating gradient\n",
    "        input_for_gradient = Variable(input, requires_grad=True).to(self.device)\n",
    "        out = self.model(input_for_gradient)\n",
    "        loss = self.criterion(out, Variable(labels))\n",
    "\n",
    "        # Calculate gradient\n",
    "        loss.backward()\n",
    "\n",
    "        # Calculate sign of gradient\n",
    "        signs = torch.sign(input_for_gradient.grad.data)\n",
    "\n",
    "        # Add\n",
    "        input_for_gradient.data = input_for_gradient.data + (self.epsilon * signs)\n",
    "\n",
    "        return input_for_gradient, signs"
   ]
  },
  {
   "cell_type": "code",
   "execution_count": 36,
   "metadata": {
    "collapsed": true
   },
   "outputs": [],
   "source": [
    "dataiter = iter(train_loader)\n",
    "images, labels = dataiter.next()"
   ]
  },
  {
   "cell_type": "code",
   "execution_count": 37,
   "metadata": {},
   "outputs": [
    {
     "data": {
      "image/png": "[encoded data removed]",
      "text/plain": [
       "<matplotlib.figure.Figure at 0x7f9d042b7dd8>"
      ]
     },
     "metadata": {},
     "output_type": "display_data"
    },
    {
     "name": "stdout",
     "output_type": "stream",
     "text": [
      "tensor([3, 4, 8, 8, 5, 5, 2, 5, 4, 1, 8, 4, 7, 2, 3, 7, 9, 2, 3, 7, 1, 0, 8, 7,\n",
      "        9, 6, 0, 2, 7, 3, 2, 9, 6, 1, 2, 3, 7, 0, 9, 6, 4, 6, 3, 7, 5, 0, 1, 4,\n",
      "        3, 0, 3, 6, 0, 9, 6, 0, 6, 0, 7, 3, 8, 2, 6, 1])\n"
     ]
    }
   ],
   "source": [
    "# 可视化部分图片\n",
    "\n",
    "\n",
    "dataiter = iter(train_loader)\n",
    "images, labels = dataiter.next()\n",
    "imshow(torchvision.utils.make_grid(images))\n",
    "print(labels)"
   ]
  },
  {
   "cell_type": "markdown",
   "metadata": {},
   "source": [
    "# 正常模型：熵"
   ]
  },
  {
   "cell_type": "code",
   "execution_count": 38,
   "metadata": {
    "collapsed": true
   },
   "outputs": [],
   "source": [
    "\n",
    "key_info = {'1':'model - clean', '2':'model - advExam', '3': 'modelAdv - clean', '4':'modelAdv - advExam'}\n",
    "result_info = {}"
   ]
  },
  {
   "cell_type": "markdown",
   "metadata": {},
   "source": [
    "## 正常模型 - 干净样本"
   ]
  },
  {
   "cell_type": "code",
   "execution_count": 39,
   "metadata": {
    "collapsed": true
   },
   "outputs": [],
   "source": [
    "# 读取模型\n",
    "if NORMALIZE:\n",
    "    model_path = './model/LeNet_MNIST.pt'\n",
    "else:\n",
    "    model_path = './model/LeNet_MNIST_unNormalize.pt'\n",
    "\n",
    "model = LeNet()\n",
    "model.load_state_dict(torch.load(model_path))\n",
    "model = model.to(DEVICE)"
   ]
  },
  {
   "cell_type": "code",
   "execution_count": 40,
   "metadata": {},
   "outputs": [
    {
     "name": "stderr",
     "output_type": "stream",
     "text": [
      "Exception ignored in: <bound method _MultiProcessingDataLoaderIter.__del__ of <torch.utils.data.dataloader._MultiProcessingDataLoaderIter object at 0x7f9d70aa8dd8>>\n",
      "Traceback (most recent call last):\n",
      "  File \"/data/anaconda3/envs/py36/lib/python3.6/site-packages/torch/utils/data/dataloader.py\", line 926, in __del__\n",
      "    self._shutdown_workers()\n",
      "  File \"/data/anaconda3/envs/py36/lib/python3.6/site-packages/torch/utils/data/dataloader.py\", line 906, in _shutdown_workers\n",
      "    w.join()\n",
      "  File \"/data/anaconda3/envs/py36/lib/python3.6/multiprocessing/process.py\", line 119, in join\n",
      "    assert self._parent_pid == os.getpid(), 'can only join a child process'\n",
      "AssertionError: can only join a child process\n",
      "Exception ignored in: <bound method _MultiProcessingDataLoaderIter.__del__ of <torch.utils.data.dataloader._MultiProcessingDataLoaderIter object at 0x7f9d70aa8dd8>>\n",
      "Traceback (most recent call last):\n",
      "  File \"/data/anaconda3/envs/py36/lib/python3.6/site-packages/torch/utils/data/dataloader.py\", line 926, in __del__\n",
      "    self._shutdown_workers()\n",
      "  File \"/data/anaconda3/envs/py36/lib/python3.6/site-packages/torch/utils/data/dataloader.py\", line 906, in _shutdown_workers\n",
      "    w.join()\n",
      "  File \"/data/anaconda3/envs/py36/lib/python3.6/multiprocessing/process.py\", line 119, in join\n",
      "    assert self._parent_pid == os.getpid(), 'can only join a child process'\n",
      "AssertionError: can only join a child process\n"
     ]
    },
    {
     "name": "stdout",
     "output_type": "stream",
     "text": [
      " 10000|10000\n",
      "test loss: {0.0365}\n",
      "correct: {0.9880}\n"
     ]
    }
   ],
   "source": [
    "# 测试准确率 和 信息熵\n",
    "model.eval()\n",
    "\n",
    "test_loss = 0\n",
    "correct = 0\n",
    "count = 0\n",
    "\n",
    "info_arr = torch.tensor([])\n",
    "info_arr = info_arr.to(DEVICE)\n",
    "with torch.no_grad():\n",
    "    for data, target in test_loader:\n",
    "        data, target = data.to(DEVICE), target.to(DEVICE)\n",
    "        output = model(data)\n",
    "        \n",
    "        test_loss += torch.nn.functional.cross_entropy(output, target, reduction='sum')\n",
    "        pred = output.argmax(dim=1, keepdim=True)\n",
    "        \n",
    "        # 计算信息熵\n",
    "#         tmp_sum = output.sum(dim=1, keepdim=True)\n",
    "#         tmp_output = output / tmp_sum\n",
    "        tmp_output = torch.softmax(output, dim=1)\n",
    "        info_entropy = -tmp_output * torch.log2(tmp_output)\n",
    "        info_entropy = info_entropy.sum(dim=1)\n",
    "        \n",
    "        info_arr = torch.cat((info_arr, info_entropy))\n",
    "        correct += pred.eq(target.view_as(pred)).sum().item()\n",
    "        \n",
    "        count += len(data)\n",
    "        print('\\r {}|{}'.format(count, len(test_loader.dataset)), end='')\n",
    "    \n",
    "    test_loss /= len(test_loader.dataset)\n",
    "    \n",
    "print('\\ntest loss: {%0.4f}' % test_loss)\n",
    "print('correct: {%0.4f}' % (correct/len(test_loader.dataset)) )"
   ]
  },
  {
   "cell_type": "code",
   "execution_count": 41,
   "metadata": {},
   "outputs": [
    {
     "data": {
      "image/png": "[encoded data removed]",
      "text/plain": [
       "<matplotlib.figure.Figure at 0x7f9d04057400>"
      ]
     },
     "metadata": {},
     "output_type": "display_data"
    }
   ],
   "source": [
    "result_info['1'] = info_arr.cpu().numpy()\n",
    "plt.plot(info_arr.cpu())\n",
    "plt.show()"
   ]
  },
  {
   "cell_type": "markdown",
   "metadata": {},
   "source": [
    "## 正常模型 - 对抗样本"
   ]
  },
  {
   "cell_type": "code",
   "execution_count": 42,
   "metadata": {
    "collapsed": true
   },
   "outputs": [],
   "source": [
    "epsilon = 0.3\n",
    "criterion = nn.CrossEntropyLoss()\n",
    "fgsm = FGSM(model, criterion, epsilon, DEVICE)"
   ]
  },
  {
   "cell_type": "code",
   "execution_count": 43,
   "metadata": {},
   "outputs": [
    {
     "name": "stdout",
     "output_type": "stream",
     "text": [
      " 10000|10000\n",
      "test loss: {0.9431}\n",
      "correct: {0.7460}\n"
     ]
    }
   ],
   "source": [
    "model.eval()\n",
    "\n",
    "test_loss = 0\n",
    "correct = 0\n",
    "count = 0\n",
    "\n",
    "info_arr = torch.tensor([])\n",
    "info_arr = info_arr.to(DEVICE)\n",
    "\n",
    "for data, target in test_loader:\n",
    "    data, target = data.to(DEVICE), target.to(DEVICE)\n",
    "    # 生成对抗样本\n",
    "    data, sign = fgsm(data, target)\n",
    "    output = model(data)\n",
    "\n",
    "    test_loss += torch.nn.functional.cross_entropy(output, target, reduction='sum')\n",
    "    pred = output.argmax(dim=1, keepdim=True)\n",
    "\n",
    "    # 计算信息熵\n",
    "#         tmp_sum = output.sum(dim=1, keepdim=True)\n",
    "#         tmp_output = output / tmp_sum\n",
    "    tmp_output = torch.softmax(output, dim=1)\n",
    "    info_entropy = -tmp_output * torch.log2(tmp_output)\n",
    "    info_entropy = info_entropy.sum(dim=1)\n",
    "\n",
    "    info_arr = torch.cat((info_arr, info_entropy))\n",
    "    correct += pred.eq(target.view_as(pred)).sum().item()\n",
    "\n",
    "    count += len(data)\n",
    "    print('\\r {}|{}'.format(count, len(test_loader.dataset)), end='')\n",
    "\n",
    "test_loss /= len(test_loader.dataset)\n",
    "    \n",
    "print('\\ntest loss: {%0.4f}' % test_loss)\n",
    "print('correct: {%0.4f}' % (correct/len(test_loader.dataset)) )"
   ]
  },
  {
   "cell_type": "code",
   "execution_count": 44,
   "metadata": {},
   "outputs": [
    {
     "data": {
      "image/png": "[encoded data removed]",
      "text/plain": [
       "<matplotlib.figure.Figure at 0x7f9d043089e8>"
      ]
     },
     "metadata": {},
     "output_type": "display_data"
    }
   ],
   "source": [
    "result_info['2'] = info_arr.detach().cpu().numpy()\n",
    "plt.plot(info_arr.detach().cpu().numpy())\n",
    "plt.show()"
   ]
  },
  {
   "cell_type": "code",
   "execution_count": null,
   "metadata": {
    "collapsed": true
   },
   "outputs": [],
   "source": []
  },
  {
   "cell_type": "code",
   "execution_count": null,
   "metadata": {
    "collapsed": true
   },
   "outputs": [],
   "source": []
  },
  {
   "cell_type": "markdown",
   "metadata": {},
   "source": [
    "# 对抗训练的模型"
   ]
  },
  {
   "cell_type": "markdown",
   "metadata": {},
   "source": [
    "## 对抗模型 - 干净样本"
   ]
  },
  {
   "cell_type": "code",
   "execution_count": 45,
   "metadata": {},
   "outputs": [
    {
     "name": "stdout",
     "output_type": "stream",
     "text": [
      "read model: ./model/LeNet_MNIST_adv.pt\n"
     ]
    }
   ],
   "source": [
    "# 读取模型\n",
    "if NORMALIZE:\n",
    "    model_path = './model/LeNet_MNIST_adv.pt'\n",
    "else:\n",
    "    model_path = './model/LeNet_MNIST_unNormalize_adv.pt'\n",
    "\n",
    "model_adv = LeNet()\n",
    "model_adv.load_state_dict(torch.load(model_path))\n",
    "print('read model: {}'.format(model_path))\n",
    "model_adv = model_adv.to(DEVICE)"
   ]
  },
  {
   "cell_type": "code",
   "execution_count": 46,
   "metadata": {},
   "outputs": [
    {
     "name": "stdout",
     "output_type": "stream",
     "text": [
      " 10000|10000\n",
      "test loss: {0.0453}\n",
      "correct: {0.9843}\n"
     ]
    }
   ],
   "source": [
    "# 对抗训练的准确率 和 信息熵\n",
    "\n",
    "model_adv.eval()\n",
    "\n",
    "test_loss = 0\n",
    "correct = 0\n",
    "count = 0\n",
    "\n",
    "info_arr = torch.tensor([])\n",
    "info_arr = info_arr.to(DEVICE)\n",
    "with torch.no_grad():\n",
    "    for data, target in test_loader:\n",
    "        data, target = data.to(DEVICE), target.to(DEVICE)\n",
    "        output = model_adv(data)\n",
    "        \n",
    "        test_loss += torch.nn.functional.cross_entropy(output, target, reduction='sum')\n",
    "        pred = output.argmax(dim=1, keepdim=True)\n",
    "        \n",
    "        # 计算信息熵\n",
    "#         tmp_sum = output.sum(dim=1, keepdim=True)\n",
    "#         tmp_output = output / tmp_sum\n",
    "        tmp_output = torch.softmax(output, dim=1)\n",
    "        info_entropy = -tmp_output * torch.log2(tmp_output)\n",
    "        info_entropy = info_entropy.sum(dim=1)\n",
    "        \n",
    "        info_arr = torch.cat((info_arr, info_entropy))\n",
    "        correct += pred.eq(target.view_as(pred)).sum().item()\n",
    "        \n",
    "        count += len(data)\n",
    "        print('\\r {}|{}'.format(count, len(test_loader.dataset)), end='')\n",
    "    \n",
    "    test_loss /= len(test_loader.dataset)\n",
    "    \n",
    "print('\\ntest loss: {%0.4f}' % test_loss)\n",
    "print('correct: {%0.4f}' % (correct/len(test_loader.dataset)) )"
   ]
  },
  {
   "cell_type": "code",
   "execution_count": 47,
   "metadata": {},
   "outputs": [
    {
     "data": {
      "image/png": "[encoded data removed]",
      "text/plain": [
       "<matplotlib.figure.Figure at 0x7f9d0466b400>"
      ]
     },
     "metadata": {},
     "output_type": "display_data"
    }
   ],
   "source": [
    "result_info['3'] = info_arr.cpu().numpy()\n",
    "plt.plot(info_arr.cpu())\n",
    "plt.show()"
   ]
  },
  {
   "cell_type": "markdown",
   "metadata": {},
   "source": [
    "## 对抗模型 - 对抗样本"
   ]
  },
  {
   "cell_type": "code",
   "execution_count": 48,
   "metadata": {},
   "outputs": [
    {
     "name": "stdout",
     "output_type": "stream",
     "text": [
      "read model: ./model/LeNet_MNIST_adv.pt\n"
     ]
    }
   ],
   "source": [
    "# 读取模型\n",
    "if NORMALIZE:\n",
    "    model_path = './model/LeNet_MNIST_adv.pt'\n",
    "else:\n",
    "    model_path = './model/LeNet_MNIST_unNormalize_adv.pt'\n",
    "\n",
    "model_adv = LeNet()\n",
    "model_adv.load_state_dict(torch.load(model_path))\n",
    "print('read model: {}'.format(model_path))\n",
    "model_adv = model_adv.to(DEVICE)"
   ]
  },
  {
   "cell_type": "code",
   "execution_count": 49,
   "metadata": {
    "collapsed": true
   },
   "outputs": [],
   "source": [
    "##############################\n",
    "# 注意，这里的对抗样本应该由哪个模型产生呢？\n",
    "# model or model_adv ???\n",
    "##############################\n",
    "# 读取模型\n",
    "if NORMALIZE:\n",
    "    model_path = './model/LeNet_MNIST.pt'\n",
    "else:\n",
    "    model_path = './model/LeNet_MNIST_unNormalize.pt'\n",
    "model = LeNet()\n",
    "model.load_state_dict(torch.load(model_path))\n",
    "model = model.to(DEVICE)\n",
    "\n",
    "epsilon = 0.3\n",
    "criterion = nn.CrossEntropyLoss()\n",
    "fgsm = FGSM(model, criterion, epsilon, DEVICE)"
   ]
  },
  {
   "cell_type": "code",
   "execution_count": 50,
   "metadata": {},
   "outputs": [
    {
     "name": "stdout",
     "output_type": "stream",
     "text": [
      " 10000|10000\n",
      "test loss: {0.0394}\n",
      "correct: {0.9866}\n"
     ]
    }
   ],
   "source": [
    "# 对抗训练的准确率 和 信息熵\n",
    "\n",
    "model_adv.eval()\n",
    "\n",
    "test_loss = 0\n",
    "correct = 0\n",
    "count = 0\n",
    "\n",
    "info_arr = torch.tensor([])\n",
    "info_arr = info_arr.to(DEVICE)\n",
    "\n",
    "for data, target in test_loader:\n",
    "    data, target = data.to(DEVICE), target.to(DEVICE)\n",
    "    data, sign = fgsm(data, target)\n",
    "\n",
    "    output = model_adv(data)\n",
    "\n",
    "    test_loss += torch.nn.functional.cross_entropy(output, target, reduction='sum')\n",
    "    pred = output.argmax(dim=1, keepdim=True)\n",
    "    correct += pred.eq(target.view_as(pred)).sum().item()\n",
    "    \n",
    "    # 计算信息熵\n",
    "#         tmp_sum = output.sum(dim=1, keepdim=True)\n",
    "#         tmp_output = output / tmp_sum\n",
    "    tmp_output = torch.softmax(output, dim=1)\n",
    "    info_entropy = -tmp_output * torch.log2(tmp_output)\n",
    "    info_entropy = info_entropy.sum(dim=1)\n",
    "\n",
    "    info_arr = torch.cat((info_arr, info_entropy))\n",
    "    \n",
    "\n",
    "    count += len(data)\n",
    "    print('\\r {}|{}'.format(count, len(test_loader.dataset)), end='')\n",
    "\n",
    "test_loss /= len(test_loader.dataset)\n",
    "    \n",
    "print('\\ntest loss: {%0.4f}' % test_loss)\n",
    "print('correct: {%0.4f}' % (correct/len(test_loader.dataset)) )"
   ]
  },
  {
   "cell_type": "code",
   "execution_count": 51,
   "metadata": {},
   "outputs": [
    {
     "data": {
      "image/png": "[encoded data removed]",
      "text/plain": [
       "<matplotlib.figure.Figure at 0x7f9d04731160>"
      ]
     },
     "metadata": {},
     "output_type": "display_data"
    }
   ],
   "source": [
    "result_info['4'] = info_arr.detach().cpu().numpy()\n",
    "plt.plot(info_arr.detach().cpu().numpy())\n",
    "plt.show()"
   ]
  },
  {
   "cell_type": "markdown",
   "metadata": {},
   "source": [
    "# 结果"
   ]
  },
  {
   "cell_type": "code",
   "execution_count": 52,
   "metadata": {},
   "outputs": [
    {
     "name": "stdout",
     "output_type": "stream",
     "text": [
      "{'1': 'model - clean', '2': 'model - advExam', '3': 'modelAdv - clean', '4': 'modelAdv - advExam'}\n"
     ]
    },
    {
     "data": {
      "text/plain": [
       "{'1': array([  1.53575111e-05,   3.03104296e-02,   7.70997140e-04, ...,\n",
       "          6.98039774e-04,   1.08967224e-05,   1.07149142e-04], dtype=float32),\n",
       " '2': array([  4.13051857e-05,   3.27620566e-01,   1.12423420e+00, ...,\n",
       "          5.18477201e-01,   1.37626958e+00,   2.60543567e-03], dtype=float32),\n",
       " '3': array([  1.19557781e-05,   7.12358451e-04,   5.42644470e-04, ...,\n",
       "          1.25847582e-03,   3.19727184e-03,   1.30401939e-04], dtype=float32),\n",
       " '4': array([  4.61627169e-05,   3.07442970e-04,   4.78032707e-05, ...,\n",
       "          2.31567072e-03,   5.77406250e-02,   2.64643197e-04], dtype=float32)}"
      ]
     },
     "execution_count": 52,
     "metadata": {},
     "output_type": "execute_result"
    }
   ],
   "source": [
    "print(key_info)\n",
    "result_info"
   ]
  },
  {
   "cell_type": "code",
   "execution_count": 60,
   "metadata": {
    "scrolled": false
   },
   "outputs": [
    {
     "data": {
      "image/png": "[encoded data removed]",
      "text/plain": [
       "<matplotlib.figure.Figure at 0x7f9d689afdd8>"
      ]
     },
     "metadata": {},
     "output_type": "display_data"
    }
   ],
   "source": [
    "plt.figure(figsize=(8,8))\n",
    "\n",
    "plt.subplot(2,2,1)\n",
    "plt.plot(result_info['1'])\n",
    "plt.title(key_info['1']+':'+ str(np.mean(result_info['1'])))\n",
    "\n",
    "\n",
    "plt.subplot(2,2,2)\n",
    "plt.plot(result_info['2'])\n",
    "plt.title(key_info['2']+':'+ str(np.mean(result_info['2'])))\n",
    "\n",
    "\n",
    "plt.subplot(2,2,3)\n",
    "plt.plot(result_info['3'])\n",
    "plt.title(key_info['3']+':'+ str(np.mean(result_info['3'])))\n",
    "\n",
    "\n",
    "plt.subplot(2,2,4)\n",
    "plt.plot(result_info['4'])\n",
    "plt.title(key_info['4']+':'+ str(np.mean(result_info['4'])))\n",
    "plt.show()"
   ]
  },
  {
   "cell_type": "markdown",
   "metadata": {},
   "source": [
    "## 分析\n",
    "\n",
    "**从熵的角度理解对抗训练对模型的影响：**\n",
    "\n",
    "1. 比较左上角和右上角这两个图，发现以对抗样本为输入，正常模型的输出的熵要比较高，这说明正常模型对对样样本不比较不“自信的”，即反映出正常模型容易搜到对抗样本的攻击；\n",
    "2. 比较左上角与左下角这两个图，发现正常模型经过对抗训练后，以正常样本为输入，正常模型的输出的熵值略微上升，说明正常模型经过对抗训练后，model_adv在正常样本上的性能是有所下降的；\n",
    "3. 比较左下角和右下角这两个图，发现以对抗样本为输入，model_adv也能保持比较低的信息熵值，这表明model_adv确实能抵抗对抗样本的攻击。"
   ]
  },
  {
   "cell_type": "code",
   "execution_count": 71,
   "metadata": {},
   "outputs": [
    {
     "name": "stdout",
     "output_type": "stream",
     "text": [
      "1.0\n"
     ]
    }
   ],
   "source": [
    "a = np.array([0.5 ,0.5])\n",
    "\n",
    "print((-a *np.log2(a)).sum())"
   ]
  },
  {
   "cell_type": "markdown",
   "metadata": {},
   "source": [
    "# 拓展\n",
    "\n",
    "**假设对抗样本来自model_adv，不是model会发生什么**"
   ]
  },
  {
   "cell_type": "code",
   "execution_count": 73,
   "metadata": {},
   "outputs": [
    {
     "name": "stdout",
     "output_type": "stream",
     "text": [
      "read model: ./model/LeNet_MNIST_adv.pt\n"
     ]
    }
   ],
   "source": [
    "# 读取模型\n",
    "if NORMALIZE:\n",
    "    model_path = './model/LeNet_MNIST_adv.pt'\n",
    "else:\n",
    "    model_path = './model/LeNet_MNIST_unNormalize_adv.pt'\n",
    "\n",
    "model_adv = LeNet()\n",
    "model_adv.load_state_dict(torch.load(model_path))\n",
    "print('read model: {}'.format(model_path))\n",
    "model_adv = model_adv.to(DEVICE)"
   ]
  },
  {
   "cell_type": "code",
   "execution_count": 74,
   "metadata": {
    "collapsed": true
   },
   "outputs": [],
   "source": [
    "##############################\n",
    "# 注意，这里的对抗样本应该由哪个模型产生呢？\n",
    "# model or model_adv ???\n",
    "##############################\n",
    "epsilon = 0.3\n",
    "criterion = nn.CrossEntropyLoss()\n",
    "fgsm = FGSM(model_adv, criterion, epsilon, DEVICE)"
   ]
  },
  {
   "cell_type": "code",
   "execution_count": 75,
   "metadata": {},
   "outputs": [
    {
     "name": "stdout",
     "output_type": "stream",
     "text": [
      " 10000|10000\n",
      "test loss: {3.8901}\n",
      "correct: {0.3486}\n"
     ]
    }
   ],
   "source": [
    "# 对抗训练的准确率 和 信息熵\n",
    "\n",
    "model_adv.eval()\n",
    "\n",
    "test_loss = 0\n",
    "correct = 0\n",
    "count = 0\n",
    "\n",
    "info_arr = torch.tensor([])\n",
    "info_arr = info_arr.to(DEVICE)\n",
    "\n",
    "for data, target in test_loader:\n",
    "    data, target = data.to(DEVICE), target.to(DEVICE)\n",
    "    data, sign = fgsm(data, target)\n",
    "\n",
    "    output = model_adv(data)\n",
    "\n",
    "    test_loss += torch.nn.functional.cross_entropy(output, target, reduction='sum')\n",
    "    pred = output.argmax(dim=1, keepdim=True)\n",
    "    correct += pred.eq(target.view_as(pred)).sum().item()\n",
    "    \n",
    "    # 计算信息熵\n",
    "#         tmp_sum = output.sum(dim=1, keepdim=True)\n",
    "#         tmp_output = output / tmp_sum\n",
    "    tmp_output = torch.softmax(output, dim=1)\n",
    "    info_entropy = -tmp_output * torch.log2(tmp_output)\n",
    "    info_entropy = info_entropy.sum(dim=1)\n",
    "\n",
    "    info_arr = torch.cat((info_arr, info_entropy))\n",
    "    \n",
    "\n",
    "    count += len(data)\n",
    "    print('\\r {}|{}'.format(count, len(test_loader.dataset)), end='')\n",
    "\n",
    "test_loss /= len(test_loader.dataset)\n",
    "    \n",
    "print('\\ntest loss: {%0.4f}' % test_loss)\n",
    "print('correct: {%0.4f}' % (correct/len(test_loader.dataset)) )"
   ]
  },
  {
   "cell_type": "code",
   "execution_count": 76,
   "metadata": {},
   "outputs": [
    {
     "data": {
      "image/png": "[encoded data removed]",
      "text/plain": [
       "<matplotlib.figure.Figure at 0x7f9d68a982e8>"
      ]
     },
     "metadata": {},
     "output_type": "display_data"
    }
   ],
   "source": [
    "result_info['5'] = info_arr.detach().cpu().numpy()\n",
    "plt.plot(info_arr.detach().cpu().numpy())\n",
    "plt.show()"
   ]
  },
  {
   "cell_type": "code",
   "execution_count": 91,
   "metadata": {},
   "outputs": [
    {
     "data": {
      "image/png": "[encoded data removed]",
      "text/plain": [
       "<matplotlib.figure.Figure at 0x7f9d6891a9e8>"
      ]
     },
     "metadata": {},
     "output_type": "display_data"
    }
   ],
   "source": [
    "plt.figure(figsize=(12,6))\n",
    "\n",
    "plt.subplot(1,2,1)\n",
    "plt.plot(result_info['4'])\n",
    "plt.title(key_info['4']+' model_adv: '+ str(np.mean(result_info['4'])))\n",
    "\n",
    "plt.subplot(1,2,2)\n",
    "plt.plot(result_info['5'])\n",
    "plt.title(key_info['4']+' model_adv (new): '+ str(np.mean(result_info['5'])))\n",
    "\n",
    "plt.show()"
   ]
  },
  {
   "cell_type": "code",
   "execution_count": null,
   "metadata": {},
   "outputs": [],
   "source": []
  },
  {
   "cell_type": "code",
   "execution_count": 93,
   "metadata": {},
   "outputs": [
    {
     "data": {
      "text/plain": [
       "3.3219280948873622"
      ]
     },
     "execution_count": 93,
     "metadata": {},
     "output_type": "execute_result"
    }
   ],
   "source": [
    "np.log2(10)"
   ]
  },
  {
   "cell_type": "code",
   "execution_count": null,
   "metadata": {
    "collapsed": true
   },
   "outputs": [],
   "source": []
  }
 ],
 "metadata": {
  "kernelspec": {
   "display_name": "py3",
   "language": "python",
   "name": "py36"
  },
  "language_info": {
   "codemirror_mode": {
    "name": "ipython",
    "version": 3
   },
   "file_extension": ".py",
   "mimetype": "text/x-python",
   "name": "python",
   "nbconvert_exporter": "python",
   "pygments_lexer": "ipython3",
   "version": "3.6.2"
  },
  "toc": {
   "base_numbering": 1,
   "nav_menu": {},
   "number_sections": true,
   "sideBar": true,
   "skip_h1_title": false,
   "title_cell": "Table of Contents",
   "title_sidebar": "Contents",
   "toc_cell": false,
   "toc_position": {},
   "toc_section_display": true,
   "toc_window_display": true
  }
 },
 "nbformat": 4,
 "nbformat_minor": 2
}
