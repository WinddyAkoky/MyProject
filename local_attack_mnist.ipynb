{
 "cells": [
  {
   "cell_type": "code",
   "execution_count": 5,
   "metadata": {},
   "outputs": [],
   "source": [
    "import torch\n",
    "import torch.nn as nn\n",
    "import torchvision\n",
    "import torchvision.transforms as transforms\n",
    "from LeNet import LeNet\n",
    "from tqdm import tqdm_notebook\n",
    "from torch.autograd import Variable\n",
    "\n",
    "import numpy as np\n",
    "import os\n",
    "\n",
    "from sklearn import metrics\n",
    "\n",
    "import matplotlib.pyplot as plt"
   ]
  },
  {
   "cell_type": "markdown",
   "metadata": {},
   "source": [
    "# 可视化函数"
   ]
  },
  {
   "cell_type": "code",
   "execution_count": 13,
   "metadata": {},
   "outputs": [],
   "source": [
    "# 可视化数据集\n",
    "def imshow(img):\n",
    "    img = img * 0.3081 + 0.1307\n",
    "    np_img = img.numpy()\n",
    "    plt.imshow(np.transpose(np_img, (1, 2, 0)))\n",
    "    plt.show()\n",
    "def imshow_un(img):\n",
    "#     img = img * 0.3081 + 0.1307\n",
    "    np_img = img.numpy()\n",
    "    plt.imshow(np.transpose(np_img, (1, 2, 0)))\n",
    "    plt.show()"
   ]
  },
  {
   "cell_type": "markdown",
   "metadata": {},
   "source": [
    "# 攻击方法"
   ]
  },
  {
   "cell_type": "code",
   "execution_count": 82,
   "metadata": {},
   "outputs": [],
   "source": [
    "import torch\n",
    "\n",
    "\n",
    "#  FGSM攻击\n",
    "class FGSM:\n",
    "    def __init__(self, model, criterion, epsilon):\n",
    "        self.model = model\n",
    "        self.criterion = criterion\n",
    "        self.epsilon = epsilon\n",
    "        self.device = torch.device('cuda:0' if torch.cuda.is_available() else 'cpu')\n",
    "        assert isinstance(model, torch.nn.Module), \"Input parameter model is not nn.Module. Check the model\"\n",
    "        assert isinstance(criterion, torch.nn.Module), \"Input parameter criterion is no Loss. Check the criterion\"\n",
    "        assert (0 <= epsilon <= 1), \"episilon must be 0 <= epsilon <= 1\"\n",
    "        self.model.eval()\n",
    "\n",
    "\n",
    "    def __call__(self, input, labels):\n",
    "        # For calculating gradient\n",
    "        input_for_gradient = Variable(input, requires_grad=True).to(self.device)\n",
    "        out = self.model(input_for_gradient)\n",
    "        loss = self.criterion(out, Variable(labels))\n",
    "\n",
    "        # Calculate gradient\n",
    "        loss.backward()\n",
    "\n",
    "        # Calculate sign of gradient\n",
    "        signs = torch.sign(input_for_gradient.grad.data)\n",
    "\n",
    "        # Add\n",
    "        input_for_gradient.data = input_for_gradient.data + (self.epsilon * signs)\n",
    "\n",
    "        return input_for_gradient, signs\n",
    "    \n",
    "class FGSM_local:\n",
    "    def __init__(self, model, criterion, epsilon):\n",
    "        self.model = model\n",
    "        self.criterion = criterion\n",
    "        self.epsilon = epsilon\n",
    "        self.device = torch.device('cuda:0' if torch.cuda.is_available() else 'cpu')\n",
    "        assert isinstance(model, torch.nn.Module), \"Input parameter model is not nn.Module. Check the model\"\n",
    "        assert isinstance(criterion, torch.nn.Module), \"Input parameter criterion is no Loss. Check the criterion\"\n",
    "        assert (0 <= epsilon <= 1), \"episilon must be 0 <= epsilon <= 1\"\n",
    "        self.model.eval()\n",
    "\n",
    "\n",
    "    def __call__(self, input, labels):\n",
    "        # For calculating gradient\n",
    "        input_for_gradient = Variable(input, requires_grad=True).to(self.device)\n",
    "        out = self.model(input_for_gradient)\n",
    "        loss = self.criterion(out, Variable(labels))\n",
    "\n",
    "        # Calculate gradient\n",
    "        loss.backward()\n",
    "\n",
    "        # Calculate sign of gradient\n",
    "        signs = torch.sign(input_for_gradient.grad.data)\n",
    "        \n",
    "        size = signs.shape[-1] // 4\n",
    "        mask = torch.zeros_like(signs)\n",
    "        mask[:,:,0:size,0:size] = 1\n",
    "        signs = signs.mul(mask)\n",
    "        \n",
    "        # Add\n",
    "        input_for_gradient.data = input_for_gradient.data + (self.epsilon * signs)\n",
    "\n",
    "        return input_for_gradient, signs, mask"
   ]
  },
  {
   "cell_type": "markdown",
   "metadata": {},
   "source": [
    "# 读取数据集"
   ]
  },
  {
   "cell_type": "code",
   "execution_count": 7,
   "metadata": {},
   "outputs": [],
   "source": [
    "trans = transforms.Compose([\n",
    "    transforms.ToTensor(),\n",
    "#     transforms.Normalize((0.1307,), (0.3081,))\n",
    "])\n",
    "\n",
    "train_set = torchvision.datasets.MNIST(root='D:/dataset/MNIST', train=True, download=True, transform=trans)\n",
    "test_set = torchvision.datasets.MNIST(root='D:/dataset/MNIST', train=False, download=True, transform=trans)\n",
    "train_loader = torch.utils.data.DataLoader(train_set, batch_size=4, shuffle=True, num_workers=2)\n",
    "test_loader = torch.utils.data.DataLoader(test_set, batch_size=4, shuffle=True, num_workers=2)"
   ]
  },
  {
   "cell_type": "code",
   "execution_count": 8,
   "metadata": {},
   "outputs": [
    {
     "name": "stdout",
     "output_type": "stream",
     "text": [
      "cuda:0\n"
     ]
    }
   ],
   "source": [
    "device = torch.device(\"cuda:0\" if torch.cuda.is_available() else \"cpu\")\n",
    "print(device)"
   ]
  },
  {
   "cell_type": "markdown",
   "metadata": {},
   "source": [
    "# 读取被攻击模型"
   ]
  },
  {
   "cell_type": "code",
   "execution_count": 9,
   "metadata": {},
   "outputs": [],
   "source": [
    "model = LeNet()\n",
    "model.load_state_dict(torch.load('./model/LeNet_MNIST.pt'))\n",
    "model = model.to(device)"
   ]
  },
  {
   "cell_type": "markdown",
   "metadata": {},
   "source": [
    "# 攻击样本"
   ]
  },
  {
   "cell_type": "code",
   "execution_count": 10,
   "metadata": {},
   "outputs": [],
   "source": [
    "epsilon = 0.3\n",
    "criterion = nn.CrossEntropyLoss()\n",
    "\n",
    "fgsm = FGSM(model, criterion, epsilon)"
   ]
  },
  {
   "cell_type": "code",
   "execution_count": 11,
   "metadata": {},
   "outputs": [
    {
     "data": {
      "application/vnd.jupyter.widget-view+json": {
       "model_id": "29ee245af83942ffb9842eba3c5b9a35",
       "version_major": 2,
       "version_minor": 0
      },
      "text/plain": [
       "HBox(children=(IntProgress(value=0, max=2500), HTML(value='')))"
      ]
     },
     "metadata": {},
     "output_type": "display_data"
    },
    {
     "name": "stdout",
     "output_type": "stream",
     "text": [
      "\n",
      "test loss: {3.0216}\n",
      "correct: {0.0543}\n"
     ]
    }
   ],
   "source": [
    "# 准备模型\n",
    "model.eval()\n",
    "test_loss = 0\n",
    "correct = 0\n",
    "\n",
    "# 遍历数据集\n",
    "target_arr = []\n",
    "output_arr = []\n",
    "\n",
    "for data, target in tqdm_notebook(test_loader):\n",
    "    data, target = data.to(device), target.to(device)\n",
    "\n",
    "    data, sign = fgsm(data, target)\n",
    "\n",
    "    output = model(data)\n",
    "    test_loss += torch.nn.functional.cross_entropy(output, target, reduction='sum').item()\n",
    "    pred = output.argmax(dim=1, keepdim=True)\n",
    "    correct += pred.eq(target.view_as(pred)).sum().item()\n",
    "\n",
    "    target_arr.append(target.cpu().data.numpy())\n",
    "    output_arr.append(output.cpu().data.numpy())\n",
    "    \n",
    "    \n",
    "test_loss /= len(test_loader.dataset)\n",
    "    \n",
    "print('test loss: {%0.4f}' % test_loss)\n",
    "print('correct: {%0.4f}' % (correct/len(test_loader.dataset)) )"
   ]
  },
  {
   "cell_type": "code",
   "execution_count": 18,
   "metadata": {},
   "outputs": [
    {
     "name": "stderr",
     "output_type": "stream",
     "text": [
      "Clipping input data to the valid range for imshow with RGB data ([0..1] for floats or [0..255] for integers).\n"
     ]
    },
    {
     "data": {
      "image/png": "[encoded data removed]",
      "text/plain": [
       "<Figure size 432x288 with 1 Axes>"
      ]
     },
     "metadata": {},
     "output_type": "display_data"
    }
   ],
   "source": [
    "imshow_un(torchvision.utils.make_grid(data.cpu().detach()))"
   ]
  },
  {
   "cell_type": "markdown",
   "metadata": {},
   "source": [
    "# 局部攻击"
   ]
  },
  {
   "cell_type": "code",
   "execution_count": 19,
   "metadata": {},
   "outputs": [],
   "source": [
    "iterater = iter(test_loader)"
   ]
  },
  {
   "cell_type": "code",
   "execution_count": 20,
   "metadata": {},
   "outputs": [],
   "source": [
    "sample_X, sample_Y = iterater.next()"
   ]
  },
  {
   "cell_type": "code",
   "execution_count": 21,
   "metadata": {},
   "outputs": [],
   "source": [
    "epsilon = 0.3\n",
    "criterion = nn.CrossEntropyLoss()\n",
    "fgsm = FGSM(model, criterion, epsilon)"
   ]
  },
  {
   "cell_type": "code",
   "execution_count": 35,
   "metadata": {},
   "outputs": [
    {
     "data": {
      "image/png": "[encoded data removed]",
      "text/plain": [
       "<Figure size 432x288 with 1 Axes>"
      ]
     },
     "metadata": {},
     "output_type": "display_data"
    }
   ],
   "source": [
    "imshow_un(torchvision.utils.make_grid(sample_X))"
   ]
  },
  {
   "cell_type": "code",
   "execution_count": 23,
   "metadata": {},
   "outputs": [],
   "source": [
    "data,sign = fgsm(sample_X.to(device), sample_Y.to(device))"
   ]
  },
  {
   "cell_type": "code",
   "execution_count": 34,
   "metadata": {},
   "outputs": [
    {
     "name": "stderr",
     "output_type": "stream",
     "text": [
      "Clipping input data to the valid range for imshow with RGB data ([0..1] for floats or [0..255] for integers).\n"
     ]
    },
    {
     "data": {
      "image/png": "[encoded data removed]",
      "text/plain": [
       "<Figure size 432x288 with 1 Axes>"
      ]
     },
     "metadata": {},
     "output_type": "display_data"
    }
   ],
   "source": [
    "imshow_un(torchvision.utils.make_grid(data.cpu().detach()))"
   ]
  },
  {
   "cell_type": "code",
   "execution_count": 83,
   "metadata": {},
   "outputs": [],
   "source": [
    "# local attack\n",
    "epsilon = 1\n",
    "criterion = nn.CrossEntropyLoss()\n",
    "\n",
    "fgsm_local = FGSM_local(model, criterion, epsilon)"
   ]
  },
  {
   "cell_type": "code",
   "execution_count": 84,
   "metadata": {},
   "outputs": [
    {
     "name": "stdout",
     "output_type": "stream",
     "text": [
      "label:tensor([2, 7, 5, 3])\n",
      "adv pred:tensor([2, 7, 5, 3], device='cuda:0')\n"
     ]
    }
   ],
   "source": [
    "data, sign,mask = fgsm_local(sample_X.to(device), sample_Y.to(device))\n",
    "output = model(data)\n",
    "pred = output.argmax(dim=1)\n",
    "print('label:{}'.format(sample_Y))\n",
    "print('adv pred:{}'.format(pred))"
   ]
  },
  {
   "cell_type": "code",
   "execution_count": 85,
   "metadata": {},
   "outputs": [
    {
     "name": "stderr",
     "output_type": "stream",
     "text": [
      "Clipping input data to the valid range for imshow with RGB data ([0..1] for floats or [0..255] for integers).\n"
     ]
    },
    {
     "data": {
      "image/png": "[encoded data removed]",
      "text/plain": [
       "<Figure size 432x288 with 1 Axes>"
      ]
     },
     "metadata": {},
     "output_type": "display_data"
    }
   ],
   "source": [
    "imshow_un(torchvision.utils.make_grid(data.cpu().detach()))"
   ]
  },
  {
   "cell_type": "code",
   "execution_count": 86,
   "metadata": {},
   "outputs": [
    {
     "name": "stderr",
     "output_type": "stream",
     "text": [
      "Clipping input data to the valid range for imshow with RGB data ([0..1] for floats or [0..255] for integers).\n"
     ]
    },
    {
     "data": {
      "image/png": "[encoded data removed]",
      "text/plain": [
       "<Figure size 432x288 with 1 Axes>"
      ]
     },
     "metadata": {},
     "output_type": "display_data"
    }
   ],
   "source": [
    "imshow_un(torchvision.utils.make_grid(sign.cpu()))"
   ]
  },
  {
   "cell_type": "code",
   "execution_count": 87,
   "metadata": {},
   "outputs": [
    {
     "data": {
      "image/png": "[encoded data removed]",
      "text/plain": [
       "<Figure size 432x288 with 1 Axes>"
      ]
     },
     "metadata": {},
     "output_type": "display_data"
    }
   ],
   "source": [
    "imshow_un(torchvision.utils.make_grid(mask.cpu()))"
   ]
  },
  {
   "cell_type": "code",
   "execution_count": null,
   "metadata": {},
   "outputs": [],
   "source": []
  },
  {
   "cell_type": "code",
   "execution_count": null,
   "metadata": {},
   "outputs": [],
   "source": []
  }
 ],
 "metadata": {
  "hide_input": false,
  "kernelspec": {
   "display_name": "Python 3",
   "language": "python",
   "name": "python3"
  },
  "language_info": {
   "codemirror_mode": {
    "name": "ipython",
    "version": 3
   },
   "file_extension": ".py",
   "mimetype": "text/x-python",
   "name": "python",
   "nbconvert_exporter": "python",
   "pygments_lexer": "ipython3",
   "version": "3.6.5"
  },
  "latex_envs": {
   "LaTeX_envs_menu_present": true,
   "autoclose": false,
   "autocomplete": true,
   "bibliofile": "biblio.bib",
   "cite_by": "apalike",
   "current_citInitial": 1,
   "eqLabelWithNumbers": true,
   "eqNumInitial": 1,
   "hotkeys": {
    "equation": "Ctrl-E",
    "itemize": "Ctrl-I"
   },
   "labels_anchors": false,
   "latex_user_defs": false,
   "report_style_numbering": false,
   "user_envs_cfg": false
  },
  "toc": {
   "base_numbering": 1,
   "nav_menu": {},
   "number_sections": true,
   "sideBar": true,
   "skip_h1_title": false,
   "title_cell": "Table of Contents",
   "title_sidebar": "Contents",
   "toc_cell": false,
   "toc_position": {},
   "toc_section_display": true,
   "toc_window_display": true
  }
 },
 "nbformat": 4,
 "nbformat_minor": 2
}
